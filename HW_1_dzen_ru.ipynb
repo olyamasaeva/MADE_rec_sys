{
 "cells": [
  {
   "attachments": {},
   "cell_type": "markdown",
   "id": "ae90c4df",
   "metadata": {},
   "source": [
    "# План домашней работы\n",
    "1. Реализовать алгоритмы **item2item**, **ALS**, **IALS** (2 балл за каждый)\n",
    "2. Посчитать метрику предсказаний **MRR@100** выбрасывая случайный лайк пользователя (2 балла)\n",
    "\n",
    "Будем решать задачу предсказания: на 4/5 пользователей учимся, на 1/5 выбрасываем случайный лайк и пытаемся предсказать его беря топ 100 наших лучших предсказаний для этого пользователя.\n",
    "\n",
    "MRR@100 будет равно $1/(p+1)$, где $p$ - позиция на которой оказался выброшенный лайк в нашем ранжировании и 0 если в топ 100 его не было.\n",
    "\n",
    "3. Подобрать параметры алгоритмов для максимизации MRR@100 (1 балл)\n",
    "4. Сравнить похожести айтемов получаюшиеся для item2item, ALS, IALS (1 балл)\n",
    "\n",
    "Замерить насколько получаются похожими топы похожестей. Так же рекомендуется взять 5-топовых (или любимых) статей и посмотреть на похожести которые получаются для них в разных алгоритмах."
   ]
  },
  {
   "attachments": {},
   "cell_type": "markdown",
   "id": "0b51dba6",
   "metadata": {},
   "source": [
    "### Обозначения:\n",
    "1. item_id - уникальный id айтема (статьи).\n",
    "2. user_id - уникальный id пользователя.\n",
    "3. source_id - уникальный id автора. Если у двух айтемов совпадают source_id, то это статьи одного автора.\n",
    "4. Название айтема - это название статьи.\n",
    "5. В датасете хранится user_id и список айтемов item_ids, с которыми пользователь положительно провзаимодействовал."
   ]
  },
  {
   "attachments": {},
   "cell_type": "markdown",
   "id": "4f167286",
   "metadata": {},
   "source": [
    "### Ссылки на датасет Дзена:\n",
    "\n",
    "1. Датасет: https://disk.yandex.ru/d/uUx1MMsZUR87Sw\n",
    "2. Названия айтемов: https://disk.yandex.ru/d/_ZMXsmki-OtLJA\n",
    "3. Линки между item_id и source_id: https://disk.yandex.ru/d/GCryohhLbYPFoA"
   ]
  },
  {
   "attachments": {},
   "cell_type": "markdown",
   "id": "b7468264",
   "metadata": {},
   "source": [
    "# Разбираемся с датасетом Дзена"
   ]
  },
  {
   "cell_type": "code",
   "execution_count": 121,
   "id": "51630f5f",
   "metadata": {
    "ExecuteTime": {
     "end_time": "2023-06-07T21:31:43.942096Z",
     "start_time": "2023-06-07T21:31:43.139524Z"
    }
   },
   "outputs": [],
   "source": [
    "import numpy as np\n",
    "import pandas as pd\n",
    "import scipy.sparse as sp\n",
    "from tqdm.notebook import tqdm\n",
    "from sklearn.metrics.pairwise import cosine_similarity\n",
    "from scipy.sparse.linalg import spsolve\n",
    "from sklearn.neighbors import KDTree"
   ]
  },
  {
   "cell_type": "code",
   "execution_count": 149,
   "id": "90965805",
   "metadata": {
    "ExecuteTime": {
     "end_time": "2023-06-07T21:31:45.414950Z",
     "start_time": "2023-06-07T21:31:44.581759Z"
    }
   },
   "outputs": [],
   "source": [
    "all_names = pd.read_json(\"item_id_to_name.json\", lines=False)\n",
    "item_links = pd.read_json(\"item_id_to_source_id.json\", lines=False)\n",
    "dataset = pd.read_json(\"dataset_zen.json\", lines=False)"
   ]
  },
  {
   "cell_type": "code",
   "execution_count": 150,
   "id": "772f1375",
   "metadata": {
    "ExecuteTime": {
     "end_time": "2023-06-07T21:31:46.293533Z",
     "start_time": "2023-06-07T21:31:46.269174Z"
    }
   },
   "outputs": [
    {
     "data": {
      "text/html": [
       "<div>\n",
       "<style scoped>\n",
       "    .dataframe tbody tr th:only-of-type {\n",
       "        vertical-align: middle;\n",
       "    }\n",
       "\n",
       "    .dataframe tbody tr th {\n",
       "        vertical-align: top;\n",
       "    }\n",
       "\n",
       "    .dataframe thead th {\n",
       "        text-align: right;\n",
       "    }\n",
       "</style>\n",
       "<table border=\"1\" class=\"dataframe\">\n",
       "  <thead>\n",
       "    <tr style=\"text-align: right;\">\n",
       "      <th></th>\n",
       "      <th>id</th>\n",
       "      <th>name</th>\n",
       "    </tr>\n",
       "  </thead>\n",
       "  <tbody>\n",
       "    <tr>\n",
       "      <th>0</th>\n",
       "      <td>94962</td>\n",
       "      <td>Что обычно ожидало русских казачек в руках у к...</td>\n",
       "    </tr>\n",
       "    <tr>\n",
       "      <th>1</th>\n",
       "      <td>3972</td>\n",
       "      <td>Почему Россия решила строить новую скоростную ...</td>\n",
       "    </tr>\n",
       "    <tr>\n",
       "      <th>2</th>\n",
       "      <td>94644</td>\n",
       "      <td>5 неприличных фактов об Андрее Макаревиче, кот...</td>\n",
       "    </tr>\n",
       "    <tr>\n",
       "      <th>3</th>\n",
       "      <td>82518</td>\n",
       "      <td>Что стало с красавицей Хмельницкой, которую му...</td>\n",
       "    </tr>\n",
       "    <tr>\n",
       "      <th>4</th>\n",
       "      <td>53264</td>\n",
       "      <td>Понять и Простить: Почему угонщики, бежавшие и...</td>\n",
       "    </tr>\n",
       "    <tr>\n",
       "      <th>...</th>\n",
       "      <td>...</td>\n",
       "      <td>...</td>\n",
       "    </tr>\n",
       "    <tr>\n",
       "      <th>104498</th>\n",
       "      <td>36769</td>\n",
       "      <td>Плюс один источник мифа о рыцарях, неспособных...</td>\n",
       "    </tr>\n",
       "    <tr>\n",
       "      <th>104499</th>\n",
       "      <td>9190</td>\n",
       "      <td>Мой сад - малоуходный</td>\n",
       "    </tr>\n",
       "    <tr>\n",
       "      <th>104500</th>\n",
       "      <td>52731</td>\n",
       "      <td>Купил первую в жизни циркулярную пилу. Честный...</td>\n",
       "    </tr>\n",
       "    <tr>\n",
       "      <th>104501</th>\n",
       "      <td>72660</td>\n",
       "      <td>Решили предложить Марине помощь в лечении ч.10</td>\n",
       "    </tr>\n",
       "    <tr>\n",
       "      <th>104502</th>\n",
       "      <td>53987</td>\n",
       "      <td>Мама и сестра меня предали, я с ними не общаюсь</td>\n",
       "    </tr>\n",
       "  </tbody>\n",
       "</table>\n",
       "<p>104503 rows × 2 columns</p>\n",
       "</div>"
      ],
      "text/plain": [
       "           id                                               name\n",
       "0       94962  Что обычно ожидало русских казачек в руках у к...\n",
       "1        3972  Почему Россия решила строить новую скоростную ...\n",
       "2       94644  5 неприличных фактов об Андрее Макаревиче, кот...\n",
       "3       82518  Что стало с красавицей Хмельницкой, которую му...\n",
       "4       53264  Понять и Простить: Почему угонщики, бежавшие и...\n",
       "...       ...                                                ...\n",
       "104498  36769  Плюс один источник мифа о рыцарях, неспособных...\n",
       "104499   9190                              Мой сад - малоуходный\n",
       "104500  52731  Купил первую в жизни циркулярную пилу. Честный...\n",
       "104501  72660     Решили предложить Марине помощь в лечении ч.10\n",
       "104502  53987    Мама и сестра меня предали, я с ними не общаюсь\n",
       "\n",
       "[104503 rows x 2 columns]"
      ]
     },
     "execution_count": 150,
     "metadata": {},
     "output_type": "execute_result"
    }
   ],
   "source": [
    "all_names"
   ]
  },
  {
   "cell_type": "code",
   "execution_count": 151,
   "id": "cb0aa9e5",
   "metadata": {
    "ExecuteTime": {
     "end_time": "2023-06-07T21:31:47.066054Z",
     "start_time": "2023-06-07T21:31:47.045452Z"
    }
   },
   "outputs": [
    {
     "data": {
      "text/html": [
       "<div>\n",
       "<style scoped>\n",
       "    .dataframe tbody tr th:only-of-type {\n",
       "        vertical-align: middle;\n",
       "    }\n",
       "\n",
       "    .dataframe tbody tr th {\n",
       "        vertical-align: top;\n",
       "    }\n",
       "\n",
       "    .dataframe thead th {\n",
       "        text-align: right;\n",
       "    }\n",
       "</style>\n",
       "<table border=\"1\" class=\"dataframe\">\n",
       "  <thead>\n",
       "    <tr style=\"text-align: right;\">\n",
       "      <th></th>\n",
       "      <th>id</th>\n",
       "      <th>source</th>\n",
       "    </tr>\n",
       "  </thead>\n",
       "  <tbody>\n",
       "    <tr>\n",
       "      <th>0</th>\n",
       "      <td>94962</td>\n",
       "      <td>2919814402697966089</td>\n",
       "    </tr>\n",
       "    <tr>\n",
       "      <th>1</th>\n",
       "      <td>3972</td>\n",
       "      <td>3263022753228392991</td>\n",
       "    </tr>\n",
       "    <tr>\n",
       "      <th>2</th>\n",
       "      <td>94644</td>\n",
       "      <td>-3857390427602554682</td>\n",
       "    </tr>\n",
       "    <tr>\n",
       "      <th>3</th>\n",
       "      <td>82518</td>\n",
       "      <td>-9036908390349249792</td>\n",
       "    </tr>\n",
       "    <tr>\n",
       "      <th>4</th>\n",
       "      <td>53264</td>\n",
       "      <td>3353856219169766284</td>\n",
       "    </tr>\n",
       "    <tr>\n",
       "      <th>...</th>\n",
       "      <td>...</td>\n",
       "      <td>...</td>\n",
       "    </tr>\n",
       "    <tr>\n",
       "      <th>104498</th>\n",
       "      <td>36769</td>\n",
       "      <td>3818746211375738614</td>\n",
       "    </tr>\n",
       "    <tr>\n",
       "      <th>104499</th>\n",
       "      <td>9190</td>\n",
       "      <td>4975535765688979937</td>\n",
       "    </tr>\n",
       "    <tr>\n",
       "      <th>104500</th>\n",
       "      <td>52731</td>\n",
       "      <td>3720366796439288909</td>\n",
       "    </tr>\n",
       "    <tr>\n",
       "      <th>104501</th>\n",
       "      <td>72660</td>\n",
       "      <td>-7860042973720636310</td>\n",
       "    </tr>\n",
       "    <tr>\n",
       "      <th>104502</th>\n",
       "      <td>53987</td>\n",
       "      <td>-1613465697218833842</td>\n",
       "    </tr>\n",
       "  </tbody>\n",
       "</table>\n",
       "<p>104503 rows × 2 columns</p>\n",
       "</div>"
      ],
      "text/plain": [
       "           id               source\n",
       "0       94962  2919814402697966089\n",
       "1        3972  3263022753228392991\n",
       "2       94644 -3857390427602554682\n",
       "3       82518 -9036908390349249792\n",
       "4       53264  3353856219169766284\n",
       "...       ...                  ...\n",
       "104498  36769  3818746211375738614\n",
       "104499   9190  4975535765688979937\n",
       "104500  52731  3720366796439288909\n",
       "104501  72660 -7860042973720636310\n",
       "104502  53987 -1613465697218833842\n",
       "\n",
       "[104503 rows x 2 columns]"
      ]
     },
     "execution_count": 151,
     "metadata": {},
     "output_type": "execute_result"
    }
   ],
   "source": [
    "item_links"
   ]
  },
  {
   "cell_type": "code",
   "execution_count": 152,
   "id": "f788e369",
   "metadata": {
    "ExecuteTime": {
     "end_time": "2023-06-07T21:31:47.943529Z",
     "start_time": "2023-06-07T21:31:47.920699Z"
    }
   },
   "outputs": [
    {
     "data": {
      "text/html": [
       "<div>\n",
       "<style scoped>\n",
       "    .dataframe tbody tr th:only-of-type {\n",
       "        vertical-align: middle;\n",
       "    }\n",
       "\n",
       "    .dataframe tbody tr th {\n",
       "        vertical-align: top;\n",
       "    }\n",
       "\n",
       "    .dataframe thead th {\n",
       "        text-align: right;\n",
       "    }\n",
       "</style>\n",
       "<table border=\"1\" class=\"dataframe\">\n",
       "  <thead>\n",
       "    <tr style=\"text-align: right;\">\n",
       "      <th></th>\n",
       "      <th>user_id</th>\n",
       "      <th>item_ids</th>\n",
       "    </tr>\n",
       "  </thead>\n",
       "  <tbody>\n",
       "    <tr>\n",
       "      <th>0</th>\n",
       "      <td>993675863667353526</td>\n",
       "      <td>[15267, 61075, 81203, 17066, 25471, 88427, 638...</td>\n",
       "    </tr>\n",
       "    <tr>\n",
       "      <th>1</th>\n",
       "      <td>4250619547882954185</td>\n",
       "      <td>[4555, 94644, 84972, 17774, 94962, 78217, 2485...</td>\n",
       "    </tr>\n",
       "    <tr>\n",
       "      <th>2</th>\n",
       "      <td>3847785305345691076</td>\n",
       "      <td>[1898, 26703, 16525, 86939, 55017, 31069, 4035...</td>\n",
       "    </tr>\n",
       "    <tr>\n",
       "      <th>3</th>\n",
       "      <td>1785181112918558233</td>\n",
       "      <td>[75601, 102458, 28716, 100694, 5757, 47104, 60...</td>\n",
       "    </tr>\n",
       "    <tr>\n",
       "      <th>4</th>\n",
       "      <td>5078748097863903181</td>\n",
       "      <td>[72260, 40825, 2615, 42549, 379, 100818, 56827...</td>\n",
       "    </tr>\n",
       "    <tr>\n",
       "      <th>...</th>\n",
       "      <td>...</td>\n",
       "      <td>...</td>\n",
       "    </tr>\n",
       "    <tr>\n",
       "      <th>75905</th>\n",
       "      <td>4954138831959898373</td>\n",
       "      <td>[11881, 55520, 63054, 48015, 66952, 103830, 21...</td>\n",
       "    </tr>\n",
       "    <tr>\n",
       "      <th>75906</th>\n",
       "      <td>4967793435819938014</td>\n",
       "      <td>[74697, 11830, 63858, 87245, 41956, 62089, 686...</td>\n",
       "    </tr>\n",
       "    <tr>\n",
       "      <th>75907</th>\n",
       "      <td>7137764184903122777</td>\n",
       "      <td>[10353, 1775, 103680, 29704, 9782, 13295, 9975...</td>\n",
       "    </tr>\n",
       "    <tr>\n",
       "      <th>75908</th>\n",
       "      <td>2624987805086334956</td>\n",
       "      <td>[24324, 18854, 73319, 66641, 64078, 97387, 426...</td>\n",
       "    </tr>\n",
       "    <tr>\n",
       "      <th>75909</th>\n",
       "      <td>4022390127079841428</td>\n",
       "      <td>[64748, 64490, 99490, 80080, 8419, 84702, 7582...</td>\n",
       "    </tr>\n",
       "  </tbody>\n",
       "</table>\n",
       "<p>75910 rows × 2 columns</p>\n",
       "</div>"
      ],
      "text/plain": [
       "                   user_id                                           item_ids\n",
       "0       993675863667353526  [15267, 61075, 81203, 17066, 25471, 88427, 638...\n",
       "1      4250619547882954185  [4555, 94644, 84972, 17774, 94962, 78217, 2485...\n",
       "2      3847785305345691076  [1898, 26703, 16525, 86939, 55017, 31069, 4035...\n",
       "3      1785181112918558233  [75601, 102458, 28716, 100694, 5757, 47104, 60...\n",
       "4      5078748097863903181  [72260, 40825, 2615, 42549, 379, 100818, 56827...\n",
       "...                    ...                                                ...\n",
       "75905  4954138831959898373  [11881, 55520, 63054, 48015, 66952, 103830, 21...\n",
       "75906  4967793435819938014  [74697, 11830, 63858, 87245, 41956, 62089, 686...\n",
       "75907  7137764184903122777  [10353, 1775, 103680, 29704, 9782, 13295, 9975...\n",
       "75908  2624987805086334956  [24324, 18854, 73319, 66641, 64078, 97387, 426...\n",
       "75909  4022390127079841428  [64748, 64490, 99490, 80080, 8419, 84702, 7582...\n",
       "\n",
       "[75910 rows x 2 columns]"
      ]
     },
     "execution_count": 152,
     "metadata": {},
     "output_type": "execute_result"
    }
   ],
   "source": [
    "dataset"
   ]
  },
  {
   "cell_type": "code",
   "execution_count": 164,
   "id": "eb2fd9ea",
   "metadata": {},
   "outputs": [],
   "source": [
    "dataset['len'] = dataset['item_ids'].map(len)"
   ]
  },
  {
   "cell_type": "code",
   "execution_count": 165,
   "id": "10bfb44e",
   "metadata": {},
   "outputs": [],
   "source": [
    "dataset = dataset[dataset['len'] > 0]"
   ]
  },
  {
   "cell_type": "code",
   "execution_count": 142,
   "id": "13aee080",
   "metadata": {},
   "outputs": [
    {
     "name": "stdout",
     "output_type": "stream",
     "text": [
      "[[-0.00038276 -0.00038276 -0.00038276 ... -0.00038276 -0.00038276\n",
      "  -0.00038276]]\n"
     ]
    }
   ],
   "source": [
    "print(user_item_matrix[0].toarray())"
   ]
  },
  {
   "cell_type": "code",
   "execution_count": 166,
   "id": "e8820e36",
   "metadata": {
    "ExecuteTime": {
     "end_time": "2023-06-07T21:31:55.339206Z",
     "start_time": "2023-06-07T21:31:51.973369Z"
    }
   },
   "outputs": [
    {
     "data": {
      "application/vnd.jupyter.widget-view+json": {
       "model_id": "b67f43413108409f8ab1dedf574e350a",
       "version_major": 2,
       "version_minor": 0
      },
      "text/plain": [
       "  0%|          | 0/75905 [00:00<?, ?it/s]"
      ]
     },
     "metadata": {},
     "output_type": "display_data"
    }
   ],
   "source": [
    "total_interactions_count = dataset.item_ids.map(len).sum()\n",
    "user_coo = np.zeros(total_interactions_count, dtype=np.int64)\n",
    "item_coo = np.zeros(total_interactions_count, dtype=np.int64)\n",
    "pos = 0\n",
    "\n",
    "for user_id, item_ids in enumerate(tqdm(dataset.item_ids)):\n",
    "    user_coo[pos:pos+len(item_ids)] = user_id\n",
    "    item_coo[pos:pos+len(item_ids)] = item_ids\n",
    "    pos += len(item_ids)\n",
    "shape = (max(user_coo) + 1, max(item_coo) + 1)\n",
    "user_item_matrix = sp.coo_matrix((np.ones(len(user_coo)), (user_coo, item_coo)), shape=shape)\n",
    "user_item_matrix = user_item_matrix.tocsr()\n",
    "sp.save_npz(\"data_train.npz\", user_item_matrix)\n",
    "# Cleanup memory. Later you need just data_train.npz\n",
    "del user_coo\n",
    "del item_coo\n",
    "del dataset"
   ]
  },
  {
   "cell_type": "code",
   "execution_count": 168,
   "id": "b694e04f",
   "metadata": {
    "ExecuteTime": {
     "end_time": "2023-06-07T21:32:04.714869Z",
     "start_time": "2023-06-07T21:32:04.568491Z"
    }
   },
   "outputs": [],
   "source": [
    "user_item_matrix = sp.load_npz(\"data_train.npz\")"
   ]
  },
  {
   "cell_type": "code",
   "execution_count": 169,
   "id": "36f1633f",
   "metadata": {},
   "outputs": [
    {
     "data": {
      "text/plain": [
       "<1x104503 sparse matrix of type '<class 'numpy.float64'>'\n",
       "\twith 20 stored elements in Compressed Sparse Row format>"
      ]
     },
     "execution_count": 169,
     "metadata": {},
     "output_type": "execute_result"
    }
   ],
   "source": [
    "user_item_matrix[0]"
   ]
  },
  {
   "cell_type": "code",
   "execution_count": 170,
   "id": "8e8f112d",
   "metadata": {},
   "outputs": [
    {
     "data": {
      "text/plain": [
       "(75905, 104503)"
      ]
     },
     "execution_count": 170,
     "metadata": {},
     "output_type": "execute_result"
    }
   ],
   "source": [
    "user_item_matrix.shape"
   ]
  },
  {
   "cell_type": "code",
   "execution_count": 171,
   "id": "d5072014",
   "metadata": {},
   "outputs": [],
   "source": [
    "n_user = user_item_matrix.shape[0]\n",
    "n_items = user_item_matrix.shape[1]"
   ]
  },
  {
   "cell_type": "code",
   "execution_count": 172,
   "id": "4cd37f54",
   "metadata": {
    "ExecuteTime": {
     "end_time": "2023-06-07T21:32:24.023986Z",
     "start_time": "2023-06-07T21:32:23.942940Z"
    }
   },
   "outputs": [],
   "source": [
    "item_weights = np.array(user_item_matrix.tocsc().sum(0))[0]\n",
    "top_to_bottom_order = np.argsort(-item_weights)\n",
    "item_mapping = np.empty(top_to_bottom_order.shape, dtype=int)\n",
    "item_mapping[top_to_bottom_order] = np.arange(len(top_to_bottom_order))\n",
    "total_item_count = (item_weights > 0).sum()\n",
    "total_user_count = user_item_matrix.shape[0]\n",
    "\n",
    "def build_dataset(user_item_matrix, item_pct, user_pct):\n",
    "    user_count, item_count = int(total_user_count * user_pct), int(total_item_count * item_pct)\n",
    "    item_ids = top_to_bottom_order[:item_count]\n",
    "    user_ids = np.random.choice(np.arange(user_item_matrix.shape[0]), size=user_count, replace=False)\n",
    "    train = user_item_matrix[user_ids]\n",
    "    train = train[:, item_ids]\n",
    "    return train"
   ]
  },
  {
   "cell_type": "markdown",
   "id": "e4f22d69",
   "metadata": {},
   "source": [
    "*** Здесь начинается мой код ***\n",
    "Начинаем с разделения данных на тренировочные и тестовые, в тестовых сразу выкидываем один рандомный лайк пользователя и сохраняем его позицию для последующего расчета метрик. Также из тестовой выборки исключаются результаты с одним лайком так как при его выкидывании мы получаем проблему холодного старта, результаты для таких пользователей могут отличаться от других\n"
   ]
  },
  {
   "cell_type": "code",
   "execution_count": 398,
   "id": "d7eeb486",
   "metadata": {},
   "outputs": [],
   "source": [
    "def split_train_test(user_item_matrix, user_pct):\n",
    "    user_count = int(total_user_count * user_pct)\n",
    "    user_ids = np.random.choice(np.arange(user_item_matrix.shape[0]), size=user_count, replace=False)\n",
    "    train = user_item_matrix[user_ids]\n",
    "    test = []\n",
    "    for i in range(user_item_matrix.shape[0]):\n",
    "        if i not in user_ids:\n",
    "            arr = user_item_matrix[i].copy()\n",
    "            one_indexes =  arr.nonzero()[1]\n",
    "            if len(one_indexes) <= 1:\n",
    "                continue\n",
    "            rand_ind =  np.random.choice(one_indexes, size=1, replace=False)[0]\n",
    "            arr[0, rand_ind] = 0\n",
    "            test.append((arr, rand_ind))\n",
    "    return train, test"
   ]
  },
  {
   "cell_type": "code",
   "execution_count": 399,
   "id": "32109e97",
   "metadata": {},
   "outputs": [],
   "source": [
    "train, test = split_train_test(user_item_matrix, 0.8)"
   ]
  },
  {
   "cell_type": "code",
   "execution_count": 400,
   "id": "6093f92b",
   "metadata": {},
   "outputs": [
    {
     "name": "stdout",
     "output_type": "stream",
     "text": [
      "train shape is (60724, 104503)\n",
      "test len is 15179\n"
     ]
    }
   ],
   "source": [
    "print(f\"train shape is {train.shape}\")\n",
    "print(f\"test len is {len(test)}\")"
   ]
  },
  {
   "cell_type": "markdown",
   "id": "1acc4297",
   "metadata": {},
   "source": [
    "Классы алгоритмов  item2item, ALS и IALS, метод predict_and_metrics отвечает за предсказание MRR@100 на данных без случайного лайка"
   ]
  },
  {
   "cell_type": "code",
   "execution_count": 401,
   "id": "deb26477",
   "metadata": {},
   "outputs": [],
   "source": [
    "from sklearn.neighbors import NearestNeighbors\n",
    "class Item2Item:\n",
    "    def __init__(self):\n",
    "        self.item_similarities = NearestNeighbors(metric='cosine', n_neighbors=100, n_jobs=-1)\n",
    "        self.emb_mat = None\n",
    "\n",
    "    def fit(self, ratings_matrix):\n",
    "        self.item_similarities.fit(ratings_matrix.T)\n",
    "        self.emb_mat = ratings_matrix.T\n",
    "\n",
    "    def get_k_closest(self, list_of_items, pos_to_look = None):\n",
    "        sub_matr = self.emb_mat[list_of_items]\n",
    "        dist, neigh = self.item_similarities.kneighbors(sub_matr, n_neighbors = 100)\n",
    "        neigh = np.ravel(neigh)\n",
    "        dist = np.ravel(dist)\n",
    "        dist_list = list(zip(list(dist), list(neigh)))\n",
    "        dist_list = sorted(dist_list)\n",
    "        ans = []\n",
    "        min_pos  = 0\n",
    "        for x in dist_list:\n",
    "            if len(ans) == 100:\n",
    "                return min_pos\n",
    "            if x[1] == pos_to_look and min_pos == 0:\n",
    "                min_pos = 1 / (len(ans) + 1)\n",
    "            if  x[1] not in list_of_items:\n",
    "                list_of_items.append(x[1])\n",
    "                ans.append(x)\n",
    "        return min_pos\n",
    "    \n",
    "    def predict_and_metrics(self, items_arr, rand_ind = None):\n",
    "        one_indexes = list(items_arr.nonzero()[1])\n",
    "        metric = self.get_k_closest(one_indexes, rand_ind)\n",
    "        return metric    \n"
   ]
  },
  {
   "cell_type": "code",
   "execution_count": 471,
   "id": "79265cb7",
   "metadata": {},
   "outputs": [],
   "source": [
    "class ALS:\n",
    "    def __init__(self, n_iters = 8, n_factors = 43, reg = 0.1):\n",
    "        self.reg = reg\n",
    "        self.n_iters = n_iters\n",
    "        self.n_factors = n_factors  \n",
    "        \n",
    "    def fit(self, train):\n",
    "        self.n_user, self.n_item = train.shape\n",
    "        self.user_factors = np.random.random((self.n_user, self.n_factors))\n",
    "        self.item_factors = np.random.random((self.n_item, self.n_factors))\n",
    "  \n",
    "        for _ in range(self.n_iters):\n",
    "            self.user_factors = self._als_step(train, self.user_factors, self.item_factors)\n",
    "            self.item_factors = self._als_step(train.T, self.item_factors, self.user_factors) \n",
    "        return self    \n",
    "    \n",
    "    def _als_step(self, ratings, solve_vecs, fixed_vecs):\n",
    "        A = fixed_vecs.T.dot(fixed_vecs) + np.eye(self.n_factors) * self.reg\n",
    "        b = ratings.dot(fixed_vecs)\n",
    "        A_inv = np.linalg.inv(A)\n",
    "        solve_vecs = b.dot(A_inv)\n",
    "        return solve_vecs\n",
    "    \n",
    "    def predict(self, user_id, item_id):\n",
    "        return self.user_factors[user_id].dot(self.item_factors[item_id].T)\n",
    "    \n",
    "    def get_k_closest(self, user_id, top_n):\n",
    "        scores = self.user_factors[user_id].dot(self.item_factors.T)\n",
    "        top_items = np.argsort(scores)[::-1][:top_n]\n",
    "        return top_items\n",
    "    \n",
    "    def predict_and_metrics(self, items_arr, rand_ind = None):\n",
    "        arr = items_arr\n",
    "        user_factor = self._als_step(arr, [], self.item_factors)\n",
    "        user_rec = user_factor.dot(self.item_factors.T)\n",
    "        top_items = np.argsort(user_rec)[::-1][:100][0]\n",
    "        for i in range(100):\n",
    "            if top_items[i] == rand_ind:\n",
    "                return 1 / (i + 1)\n",
    "        return 0\n",
    "\n",
    "        "
   ]
  },
  {
   "cell_type": "code",
   "execution_count": 469,
   "id": "7b73abf8",
   "metadata": {},
   "outputs": [],
   "source": [
    "class IALS:\n",
    "    def __init__(self, n_iters = 5, n_factors = 10, alpha = 15, reg = 0.01, seed = 42):\n",
    "        self.reg = reg\n",
    "        self.seed = seed\n",
    "        self.alpha = alpha\n",
    "        self.n_iters = n_iters\n",
    "        self.n_factors = n_factors\n",
    "    \n",
    "    def fit(self, ratings):\n",
    "        Cui = ratings.copy()\n",
    "        Cui.data *= self.alpha\n",
    "        Ciu = Cui.T.tocsr()\n",
    "        self.n_users, self.n_items = Cui.shape\n",
    "        rstate = np.random.RandomState(self.seed)\n",
    "        self.user_factors = rstate.normal(size = (self.n_users, self.n_factors))\n",
    "        self.item_factors = rstate.normal(size = (self.n_items, self.n_factors))\n",
    "        \n",
    "        for _ in range(self.n_iters):\n",
    "            self._als_step(Cui, self.user_factors, self.item_factors)\n",
    "            self._als_step(Ciu, self.item_factors, self.user_factors)  \n",
    "        \n",
    "        return self\n",
    "    \n",
    "    def _als_step(self, Cui, X, Y):\n",
    "        YtY = Y.T.dot(Y)\n",
    "        data = Cui.data\n",
    "        indptr, indices = Cui.indptr, Cui.indices\n",
    "        for u in range(self.n_users):\n",
    "            b = np.zeros(self.n_factors)\n",
    "            A = YtY + self.reg * np.eye(self.n_factors)            \n",
    "            for index in range(indptr[u], indptr[u + 1]):\n",
    "                i = indices[index]\n",
    "                confidence = data[index] + 1\n",
    "                factor = Y[i]\n",
    "                b += confidence * factor\n",
    "                A += (confidence - 1) * np.outer(factor, factor)\n",
    "            X[u] = np.linalg.solve(A, b)\n",
    "        return self\n",
    "\n",
    "    def predict(self, user_id, item_id):\n",
    "        return self.user_factors[user_id].dot(self.item_factors[item_id].T)\n",
    "    \n",
    "    def get_k_closest(self, user_id, top_n):\n",
    "        scores = self.user_factors[user_id].dot(self.item_factors.T)\n",
    "        top_items = np.argsort(scores)[::-1][:top_n]\n",
    "        return top_items\n",
    "    \n",
    "    def predict_and_metrics(self, items_arr, rand_ind = None):\n",
    "        Cui = items_arr.copy()\n",
    "        Cui.data *= self.alpha\n",
    "        Ciu = Cui.T.tocsr()\n",
    "        rstate = np.random.RandomState(self.seed)\n",
    "        X = rstate.normal(size = (1, self.n_factors))\n",
    "        Y = self.item_factors\n",
    "        YtY = Y.T.dot(Y)\n",
    "        data = Cui.data\n",
    "        indptr, indices = Cui.indptr, Cui.indices\n",
    "        b = np.zeros(self.n_factors)\n",
    "        A = YtY + self.reg * np.eye(self.n_factors)          \n",
    "        for index in range(indptr[0], indptr[1]):\n",
    "            i = indices[index]\n",
    "            confidence = data[index] + 1\n",
    "            factor = Y[i]\n",
    "            b += confidence * factor\n",
    "            A += (confidence - 1) * np.outer(factor, factor)\n",
    "        user_factor = np.linalg.solve(A, b)\n",
    "        user_rec = user_factor.dot(self.item_factors.T)\n",
    "        top_items = np.argsort(user_rec)[::-1][:100]\n",
    "        for i in range(100):\n",
    "            if top_items[i] == rand_ind:\n",
    "                return 1 / (i + 1)\n",
    "        return 0"
   ]
  },
  {
   "cell_type": "markdown",
   "id": "58448660",
   "metadata": {},
   "source": [
    "Процедура обучения всех трех алгоритов, несмотря на то что item2item быстро обучался, предсказывает он не очень быстро, так как для каждого пользовательского лайка он ищет 100 похожих и уже из этих 100 рекомендаций для каждого лайка выбирает 100 общих рекомендаций для всех(самые близкие). Эту операцию можно оптимизировать, если построить матрицу расстояний между статьями (будет весить больше чем исходная useritem и считаться не очень быстро),но это могло бы ускорить предсказания, так как тогда мы бы искали ближайшие статьи сразу к множеству статей. Реализации данной оптимизации не написано, поэтому процедура предсказания проведена не на всех тестовых данных, а лишь на части из них, так как расчет на всех данных требует больших затрат по времени"
   ]
  },
  {
   "cell_type": "code",
   "execution_count": 455,
   "id": "bb6360b3",
   "metadata": {},
   "outputs": [
    {
     "name": "stdout",
     "output_type": "stream",
     "text": [
      "training item2item\n",
      "item2item trained in 0.466s\n",
      "training ALS\n",
      "ALS trained in 42.647s\n",
      "training IALS\n",
      "IALS trained in 1832.516s\n"
     ]
    }
   ],
   "source": [
    "import time\n",
    "algos = {\"item2item\": Item2Item(), \"ALS\" : ALS(), \"IALS\":IALS()}\n",
    "algo_names = [\"item2item\",\"ALS\", \"IALS\"]\n",
    "for algo in algo_names:\n",
    "    start_time = time.perf_counter()\n",
    "    print(f\"training {algo}\")\n",
    "    algos[algo].fit(train)  \n",
    "    end_time = time.perf_counter()\n",
    "    print(f\"{algo} trained in {round(end_time - start_time, 3)}s\")"
   ]
  },
  {
   "cell_type": "code",
   "execution_count": 473,
   "id": "5e13ff47",
   "metadata": {},
   "outputs": [],
   "source": [
    "metrics_algo = {\"item2item\": [], \"ALS\" : [], \"IALS\": []}"
   ]
  },
  {
   "cell_type": "code",
   "execution_count": 474,
   "id": "aea2aff3",
   "metadata": {},
   "outputs": [
    {
     "name": "stdout",
     "output_type": "stream",
     "text": [
      "iteration #100\n",
      "item2item MRR@100 mean is = 0.014684513906727202\n",
      "ALS MRR@100 mean is = 0.0\n",
      "IALS MRR@100 mean is = 0.012710722332701868\n",
      "test epoch in 121.304s\n",
      "----------------------------------\n",
      "iteration #200\n",
      "item2item MRR@100 mean is = 0.012100037664906188\n",
      "ALS MRR@100 mean is = 0.0\n",
      "IALS MRR@100 mean is = 0.010042325658171926\n",
      "test epoch in 127.234s\n",
      "----------------------------------\n",
      "iteration #300\n",
      "item2item MRR@100 mean is = 0.01014703759078056\n",
      "ALS MRR@100 mean is = 0.0\n",
      "IALS MRR@100 mean is = 0.010265258246297858\n",
      "test epoch in 109.979s\n",
      "----------------------------------\n",
      "iteration #400\n",
      "item2item MRR@100 mean is = 0.010669043922753627\n",
      "ALS MRR@100 mean is = 0.0\n",
      "IALS MRR@100 mean is = 0.008289062099845985\n",
      "test epoch in 112.382s\n",
      "----------------------------------\n",
      "iteration #500\n",
      "item2item MRR@100 mean is = 0.010865465789282009\n",
      "ALS MRR@100 mean is = 0.0\n",
      "IALS MRR@100 mean is = 0.007878120886226643\n",
      "test epoch in 111.42s\n",
      "----------------------------------\n",
      "iteration #600\n",
      "item2item MRR@100 mean is = 0.012424286624777415\n",
      "ALS MRR@100 mean is = 0.0\n",
      "IALS MRR@100 mean is = 0.006894011500063733\n",
      "test epoch in 108.745s\n",
      "----------------------------------\n",
      "iteration #700\n",
      "item2item MRR@100 mean is = 0.012995562228037189\n",
      "ALS MRR@100 mean is = 0.0007142857142857143\n",
      "IALS MRR@100 mean is = 0.006638166627110015\n",
      "test epoch in 111.558s\n",
      "----------------------------------\n",
      "iteration #800\n",
      "item2item MRR@100 mean is = 0.012750269027401102\n",
      "ALS MRR@100 mean is = 0.000625\n",
      "IALS MRR@100 mean is = 0.006302945606374304\n",
      "test epoch in 117.086s\n",
      "----------------------------------\n",
      "iteration #900\n",
      "item2item MRR@100 mean is = 0.012148025422085228\n",
      "ALS MRR@100 mean is = 0.0005555555555555556\n",
      "IALS MRR@100 mean is = 0.006914537262817167\n",
      "test epoch in 107.951s\n",
      "----------------------------------\n"
     ]
    }
   ],
   "source": [
    "start_time = time.perf_counter()\n",
    "for i in range(len(metrics_algo['ALS']),1000):\n",
    "    if i % 100 == 0 and i > 0:\n",
    "        end_time = time.perf_counter()\n",
    "        print(f\"iteration #{i}\")\n",
    "        for algo in algo_names:\n",
    "            print(f\"{algo} MRR@100 mean is = {np.mean(metrics_algo[algo])}\")\n",
    "        print(f\"test epoch in {round(end_time - start_time, 3)}s\")\n",
    "        print(f\"----------------------------------\")\n",
    "        start_time = time.perf_counter()\n",
    "    \n",
    "    test_rank = test[i][0]\n",
    "    rand_like = test[i][1]\n",
    "    for algo in algo_names:\n",
    "        metric = algos[algo].predict_and_metrics(test_rank, rand_like)\n",
    "        metrics_algo[algo].append(metric)"
   ]
  },
  {
   "cell_type": "code",
   "execution_count": 475,
   "id": "d80b0b9f",
   "metadata": {},
   "outputs": [
    {
     "name": "stdout",
     "output_type": "stream",
     "text": [
      "item2item MRR@100 mean is = 0.011465797188828957\n",
      "ALS MRR@100 mean is = 0.0005\n",
      "IALS MRR@100 mean is = 0.008054748748195091\n"
     ]
    }
   ],
   "source": [
    "for algo in algo_names:\n",
    "        print(f\"{algo} MRR@100 mean is = {np.mean(metrics_algo[algo])}\")"
   ]
  },
  {
   "cell_type": "markdown",
   "id": "642adfbc",
   "metadata": {},
   "source": [
    "Подбор оптимальных параметров продемонстрирую на алгоритме ALS, так как он является наиболее удачным соотношением времени обучения и предсказания, а также он располагает несколькими параметрами для оптимизации: количесво итераций алгоритма, количество факторов и регуляризация. Подбор параметров будем осуществлять семплированием: на каждой итерации алгоритма генерировать параметры из диапазона и запускать на них алгоритм. "
   ]
  },
  {
   "cell_type": "code",
   "execution_count": null,
   "id": "eeba7a6d",
   "metadata": {},
   "outputs": [],
   "source": [
    "metrics_res = []"
   ]
  },
  {
   "cell_type": "code",
   "execution_count": 461,
   "id": "86c30857",
   "metadata": {},
   "outputs": [
    {
     "name": "stdout",
     "output_type": "stream",
     "text": [
      "For ALS with n_iters = 5, n_factors = 72, reg = 0.08286086992444391 MRR@100 = 2.5e-05\n",
      "For ALS with n_iters = 6, n_factors = 79, reg = 0.08823661138805777 MRR@100 = 0.00020791221357259094\n"
     ]
    }
   ],
   "source": [
    "import random \n",
    "\n",
    "N_SAMPLES = 10\n",
    "for i in range(len(metrics_res), N_SAMPLES):\n",
    "    n_iters =  random.randint(1, 30)\n",
    "    n_factors = random.randint(3, 100)\n",
    "    reg = random.uniform(0, 0.5)\n",
    "    test_als = ALS(n_iters = n_iters, n_factors = n_factors, reg = reg)\n",
    "    test_als.fit(train)\n",
    "    metrics = np.mean([test_als.predict_and_metrics(test[i][0], test[i][1]) for i in range(1000)])\n",
    "    print(f\"For ALS with n_iters = {n_iters}, n_factors = {n_factors}, reg = {reg} MRR@100 = {metrics}\")\n",
    "    metrics_res.append((n_iters, n_factors, reg, metrics))"
   ]
  },
  {
   "cell_type": "code",
   "execution_count": 476,
   "id": "77ddec88",
   "metadata": {},
   "outputs": [
    {
     "name": "stdout",
     "output_type": "stream",
     "text": [
      "For ALS with n_iters = 4, n_factors = 36, reg = 0.13832617220189963 MRR@100 = 0.0002596530224993223\n",
      "For ALS with n_iters = 10, n_factors = 87, reg = 0.3152082802206461 MRR@100 = 0.0010882468229080706\n",
      "For ALS with n_iters = 9, n_factors = 56, reg = 0.1446980303168146 MRR@100 = 8.001675743611229e-05\n",
      "For ALS with n_iters = 9, n_factors = 12, reg = 0.3653233920185074 MRR@100 = 0.0\n",
      "For ALS with n_iters = 8, n_factors = 43, reg = 0.10372937081431632 MRR@100 = 0.00175\n",
      "For ALS with n_iters = 25, n_factors = 24, reg = 0.07850073135978586 MRR@100 = 0.0\n",
      "For ALS with n_iters = 30, n_factors = 98, reg = 0.2827089986555021 MRR@100 = 0.0011397072585059235\n",
      "For ALS with n_iters = 16, n_factors = 27, reg = 0.4097270449791149 MRR@100 = 0.0\n",
      "For ALS with n_iters = 5, n_factors = 72, reg = 0.08286086992444391 MRR@100 = 2.5e-05\n",
      "For ALS with n_iters = 6, n_factors = 79, reg = 0.08823661138805777 MRR@100 = 0.00020791221357259094\n"
     ]
    }
   ],
   "source": [
    "for item in metrics_res:\n",
    "    n_iters, n_factors, reg, metrics = item\n",
    "    print(f\"For ALS with n_iters = {n_iters}, n_factors = {n_factors}, reg = {reg} MRR@100 = {metrics}\")"
   ]
  },
  {
   "cell_type": "markdown",
   "id": "f75a13ad",
   "metadata": {},
   "source": [
    "Результаты разные , лучшая метрика 0.00175, что все равно далеко от item2item, скорее всего из-за недообученных эмбедингов новых пользователей, на обучающих данных результат метрик примерно схож с item2item"
   ]
  }
 ],
 "metadata": {
  "finalized": {
   "timestamp": 1686173501421,
   "trusted": false
  },
  "kernelspec": {
   "display_name": "Python 3",
   "language": "python",
   "name": "python3"
  },
  "language_info": {
   "codemirror_mode": {
    "name": "ipython",
    "version": 3
   },
   "file_extension": ".py",
   "mimetype": "text/x-python",
   "name": "python",
   "nbconvert_exporter": "python",
   "pygments_lexer": "ipython3",
   "version": "3.11.0"
  },
  "toc": {
   "base_numbering": 1,
   "nav_menu": {},
   "number_sections": true,
   "sideBar": true,
   "skip_h1_title": false,
   "title_cell": "Table of Contents",
   "title_sidebar": "Contents",
   "toc_cell": false,
   "toc_position": {},
   "toc_section_display": true,
   "toc_window_display": true
  }
 },
 "nbformat": 4,
 "nbformat_minor": 5
}
